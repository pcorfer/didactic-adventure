{
  "nbformat": 4,
  "nbformat_minor": 0,
  "metadata": {
    "colab": {
      "name": "Preguntas Frecuentes y algunos comentarios.ipynb",
      "provenance": [],
      "collapsed_sections": [],
      "authorship_tag": "ABX9TyPfd3sXy+EKJ4ZveNjJ6X2i",
      "include_colab_link": true
    },
    "kernelspec": {
      "name": "python3",
      "display_name": "Python 3"
    },
    "language_info": {
      "name": "python"
    }
  },
  "cells": [
    {
      "cell_type": "markdown",
      "metadata": {
        "id": "view-in-github",
        "colab_type": "text"
      },
      "source": [
        "<a href=\"https://colab.research.google.com/github/pcorfer/didactic-adventure/blob/main/Preguntas_Frecuentes_y_algunos_comentarios.ipynb\" target=\"_parent\"><img src=\"https://colab.research.google.com/assets/colab-badge.svg\" alt=\"Open In Colab\"/></a>"
      ]
    },
    {
      "cell_type": "markdown",
      "metadata": {
        "id": "fnpAj7SesBJW"
      },
      "source": [
        "# **Como dejar una columna como indice**\n",
        "más info (en español): https://www.delftstack.com/es/howto/python-pandas/set-column-as-index-pandas/"
      ]
    },
    {
      "cell_type": "code",
      "metadata": {
        "colab": {
          "base_uri": "https://localhost:8080/",
          "height": 171
        },
        "id": "4ped9F3bsf-e",
        "outputId": "3a00fcbb-d086-44d3-c77e-e89b2994983f"
      },
      "source": [
        "import pandas as pd\n",
        "\n",
        "data={'Columna1':[5,3,7,4],'Columna2':['a','b','c','d'],'ID':[1,2,3,4]}\n",
        "df1 = pd.DataFrame(data)\n",
        "df1.head()"
      ],
      "execution_count": null,
      "outputs": [
        {
          "output_type": "execute_result",
          "data": {
            "text/html": [
              "<div>\n",
              "<style scoped>\n",
              "    .dataframe tbody tr th:only-of-type {\n",
              "        vertical-align: middle;\n",
              "    }\n",
              "\n",
              "    .dataframe tbody tr th {\n",
              "        vertical-align: top;\n",
              "    }\n",
              "\n",
              "    .dataframe thead th {\n",
              "        text-align: right;\n",
              "    }\n",
              "</style>\n",
              "<table border=\"1\" class=\"dataframe\">\n",
              "  <thead>\n",
              "    <tr style=\"text-align: right;\">\n",
              "      <th></th>\n",
              "      <th>Columna1</th>\n",
              "      <th>Columna2</th>\n",
              "      <th>ID</th>\n",
              "    </tr>\n",
              "  </thead>\n",
              "  <tbody>\n",
              "    <tr>\n",
              "      <th>0</th>\n",
              "      <td>5</td>\n",
              "      <td>a</td>\n",
              "      <td>1</td>\n",
              "    </tr>\n",
              "    <tr>\n",
              "      <th>1</th>\n",
              "      <td>3</td>\n",
              "      <td>b</td>\n",
              "      <td>2</td>\n",
              "    </tr>\n",
              "    <tr>\n",
              "      <th>2</th>\n",
              "      <td>7</td>\n",
              "      <td>c</td>\n",
              "      <td>3</td>\n",
              "    </tr>\n",
              "    <tr>\n",
              "      <th>3</th>\n",
              "      <td>4</td>\n",
              "      <td>d</td>\n",
              "      <td>4</td>\n",
              "    </tr>\n",
              "  </tbody>\n",
              "</table>\n",
              "</div>"
            ],
            "text/plain": [
              "   Columna1 Columna2  ID\n",
              "0         5        a   1\n",
              "1         3        b   2\n",
              "2         7        c   3\n",
              "3         4        d   4"
            ]
          },
          "metadata": {},
          "execution_count": 1
        }
      ]
    },
    {
      "cell_type": "code",
      "metadata": {
        "colab": {
          "base_uri": "https://localhost:8080/",
          "height": 202
        },
        "id": "6xJxForYtl3u",
        "outputId": "b0ffab76-2c94-4dfc-911a-990f5e6f8eb4"
      },
      "source": [
        "df1.set_index('ID', inplace = True) #inplace=True sobreescribe la variable df1\n",
        "df1.head()"
      ],
      "execution_count": null,
      "outputs": [
        {
          "output_type": "execute_result",
          "data": {
            "text/html": [
              "<div>\n",
              "<style scoped>\n",
              "    .dataframe tbody tr th:only-of-type {\n",
              "        vertical-align: middle;\n",
              "    }\n",
              "\n",
              "    .dataframe tbody tr th {\n",
              "        vertical-align: top;\n",
              "    }\n",
              "\n",
              "    .dataframe thead th {\n",
              "        text-align: right;\n",
              "    }\n",
              "</style>\n",
              "<table border=\"1\" class=\"dataframe\">\n",
              "  <thead>\n",
              "    <tr style=\"text-align: right;\">\n",
              "      <th></th>\n",
              "      <th>Columna1</th>\n",
              "      <th>Columna2</th>\n",
              "    </tr>\n",
              "    <tr>\n",
              "      <th>ID</th>\n",
              "      <th></th>\n",
              "      <th></th>\n",
              "    </tr>\n",
              "  </thead>\n",
              "  <tbody>\n",
              "    <tr>\n",
              "      <th>1</th>\n",
              "      <td>5</td>\n",
              "      <td>a</td>\n",
              "    </tr>\n",
              "    <tr>\n",
              "      <th>2</th>\n",
              "      <td>3</td>\n",
              "      <td>b</td>\n",
              "    </tr>\n",
              "    <tr>\n",
              "      <th>3</th>\n",
              "      <td>7</td>\n",
              "      <td>c</td>\n",
              "    </tr>\n",
              "    <tr>\n",
              "      <th>4</th>\n",
              "      <td>4</td>\n",
              "      <td>d</td>\n",
              "    </tr>\n",
              "  </tbody>\n",
              "</table>\n",
              "</div>"
            ],
            "text/plain": [
              "    Columna1 Columna2\n",
              "ID                   \n",
              "1          5        a\n",
              "2          3        b\n",
              "3          7        c\n",
              "4          4        d"
            ]
          },
          "metadata": {},
          "execution_count": 2
        }
      ]
    },
    {
      "cell_type": "markdown",
      "metadata": {
        "id": "gq-qlmN3LuvS"
      },
      "source": [
        "# **Como borrar una fila o columna**\n",
        "\n",
        "Supongamos que tenemos lo siguiente:\n"
      ]
    },
    {
      "cell_type": "code",
      "metadata": {
        "id": "ULm7rHkwLb2e"
      },
      "source": [
        "import pandas as pd\n",
        "df2=pd.read_csv(\"Nombre_Archivo.csv\" , delimiter=\",\") #si el archivo está en la misma carpeta no es necesario incluir ruta\n",
        "\n",
        "df2.drop(\"Nombre_Columna/Indice_Fila\", axis = 1 para columnas 0 para filas)\n",
        "\n",
        "Referencia: https://pandas.pydata.org/docs/reference/api/pandas.DataFrame.drop.html\n",
        "\n",
        "#Esta celda es solo un ejemplo, no va a correr porque los nombres son ficticios.\n"
      ],
      "execution_count": null,
      "outputs": []
    },
    {
      "cell_type": "markdown",
      "metadata": {
        "id": "KPkHb-JWQajA"
      },
      "source": [
        "Ejemplo en dataset vgsales.csv"
      ]
    },
    {
      "cell_type": "code",
      "metadata": {
        "id": "r14-0ucPQbvk"
      },
      "source": [
        "import pandas as pd\n",
        "\n",
        "ruta='https://raw.githubusercontent.com/pcorfer/didactic-adventure/main/vgsales.csv'  #dirección del archivo con el nombre.csv\n",
        "df2=pd.read_csv(ruta)"
      ],
      "execution_count": null,
      "outputs": []
    },
    {
      "cell_type": "code",
      "metadata": {
        "colab": {
          "base_uri": "https://localhost:8080/",
          "height": 171
        },
        "id": "z9oJbDRDQcLq",
        "outputId": "ca68c0d5-334d-4234-b1ea-61776b46b31f"
      },
      "source": [
        "df2.head(4) #revisamos que esten cargados los datos. Todo OK"
      ],
      "execution_count": null,
      "outputs": [
        {
          "output_type": "execute_result",
          "data": {
            "text/html": [
              "<div>\n",
              "<style scoped>\n",
              "    .dataframe tbody tr th:only-of-type {\n",
              "        vertical-align: middle;\n",
              "    }\n",
              "\n",
              "    .dataframe tbody tr th {\n",
              "        vertical-align: top;\n",
              "    }\n",
              "\n",
              "    .dataframe thead th {\n",
              "        text-align: right;\n",
              "    }\n",
              "</style>\n",
              "<table border=\"1\" class=\"dataframe\">\n",
              "  <thead>\n",
              "    <tr style=\"text-align: right;\">\n",
              "      <th></th>\n",
              "      <th>Rank</th>\n",
              "      <th>Name</th>\n",
              "      <th>Platform</th>\n",
              "      <th>Year</th>\n",
              "      <th>Genre</th>\n",
              "      <th>Publisher</th>\n",
              "      <th>NA_Sales</th>\n",
              "      <th>NA_Sales.1</th>\n",
              "      <th>EU_Sales</th>\n",
              "      <th>JP_Sales</th>\n",
              "      <th>Other_Sales</th>\n",
              "      <th>Global_Sales</th>\n",
              "      <th>Unnamed: 12</th>\n",
              "      <th>Unnamed: 13</th>\n",
              "    </tr>\n",
              "  </thead>\n",
              "  <tbody>\n",
              "    <tr>\n",
              "      <th>0</th>\n",
              "      <td>1</td>\n",
              "      <td>Wii Sports</td>\n",
              "      <td>Wii</td>\n",
              "      <td>2006.0</td>\n",
              "      <td>Sports</td>\n",
              "      <td>Nintendo</td>\n",
              "      <td>\"41,49\"</td>\n",
              "      <td>41,49</td>\n",
              "      <td>29,02</td>\n",
              "      <td>3,77</td>\n",
              "      <td>8,46</td>\n",
              "      <td>82,74</td>\n",
              "      <td>NaN</td>\n",
              "      <td>NaN</td>\n",
              "    </tr>\n",
              "    <tr>\n",
              "      <th>1</th>\n",
              "      <td>2</td>\n",
              "      <td>Super Mario Bros.</td>\n",
              "      <td>NES</td>\n",
              "      <td>1985.0</td>\n",
              "      <td>Platform</td>\n",
              "      <td>Nintendo</td>\n",
              "      <td>\"29,08\"</td>\n",
              "      <td>29,08</td>\n",
              "      <td>3,58</td>\n",
              "      <td>6,81</td>\n",
              "      <td>0,77</td>\n",
              "      <td>40,24</td>\n",
              "      <td>NaN</td>\n",
              "      <td>NaN</td>\n",
              "    </tr>\n",
              "    <tr>\n",
              "      <th>2</th>\n",
              "      <td>3</td>\n",
              "      <td>Mario Kart Wii</td>\n",
              "      <td>Wii</td>\n",
              "      <td>2008.0</td>\n",
              "      <td>Racing</td>\n",
              "      <td>Nintendo</td>\n",
              "      <td>\"15,85\"</td>\n",
              "      <td>15,85</td>\n",
              "      <td>12,88</td>\n",
              "      <td>3,79</td>\n",
              "      <td>3,31</td>\n",
              "      <td>35,82</td>\n",
              "      <td>NaN</td>\n",
              "      <td>NaN</td>\n",
              "    </tr>\n",
              "    <tr>\n",
              "      <th>3</th>\n",
              "      <td>4</td>\n",
              "      <td>Wii Sports Resort</td>\n",
              "      <td>Wii</td>\n",
              "      <td>2009.0</td>\n",
              "      <td>Sports</td>\n",
              "      <td>Nintendo</td>\n",
              "      <td>\"15,75\"</td>\n",
              "      <td>15,75</td>\n",
              "      <td>11,01</td>\n",
              "      <td>3,28</td>\n",
              "      <td>2,96</td>\n",
              "      <td>33</td>\n",
              "      <td>NaN</td>\n",
              "      <td>NaN</td>\n",
              "    </tr>\n",
              "  </tbody>\n",
              "</table>\n",
              "</div>"
            ],
            "text/plain": [
              "   Rank               Name Platform  ...  Global_Sales Unnamed: 12 Unnamed: 13\n",
              "0     1         Wii Sports      Wii  ...         82,74         NaN         NaN\n",
              "1     2  Super Mario Bros.      NES  ...         40,24         NaN         NaN\n",
              "2     3     Mario Kart Wii      Wii  ...         35,82         NaN         NaN\n",
              "3     4  Wii Sports Resort      Wii  ...            33         NaN         NaN\n",
              "\n",
              "[4 rows x 14 columns]"
            ]
          },
          "metadata": {},
          "execution_count": 5
        }
      ]
    },
    {
      "cell_type": "code",
      "metadata": {
        "colab": {
          "base_uri": "https://localhost:8080/",
          "height": 204
        },
        "id": "6wzI6MoSoWSX",
        "outputId": "1794e5d0-cbc0-4193-e844-fbf8cdd8711f"
      },
      "source": [
        "#Vamos a eliminar la tercera fila (2 en el indice por 0, 1 y [2])\n",
        "df2.drop(index=2,axis=0,inplace=True) #le dije que eliminara la fila (por eso axis=0) y le indiqué el indice de la fila (index=2) \n",
        "#y el inplace=True es para que se sobreescriba la variable df\n",
        "df2.head(4) #Veamos si se eliminó la fila que debiese contener al Mario Kart Wii"
      ],
      "execution_count": null,
      "outputs": [
        {
          "output_type": "execute_result",
          "data": {
            "text/html": [
              "<div>\n",
              "<style scoped>\n",
              "    .dataframe tbody tr th:only-of-type {\n",
              "        vertical-align: middle;\n",
              "    }\n",
              "\n",
              "    .dataframe tbody tr th {\n",
              "        vertical-align: top;\n",
              "    }\n",
              "\n",
              "    .dataframe thead th {\n",
              "        text-align: right;\n",
              "    }\n",
              "</style>\n",
              "<table border=\"1\" class=\"dataframe\">\n",
              "  <thead>\n",
              "    <tr style=\"text-align: right;\">\n",
              "      <th></th>\n",
              "      <th>Rank</th>\n",
              "      <th>Name</th>\n",
              "      <th>Platform</th>\n",
              "      <th>Year</th>\n",
              "      <th>Genre</th>\n",
              "      <th>Publisher</th>\n",
              "      <th>NA_Sales</th>\n",
              "      <th>NA_Sales.1</th>\n",
              "      <th>EU_Sales</th>\n",
              "      <th>JP_Sales</th>\n",
              "      <th>Other_Sales</th>\n",
              "      <th>Global_Sales</th>\n",
              "      <th>Unnamed: 12</th>\n",
              "      <th>Unnamed: 13</th>\n",
              "    </tr>\n",
              "  </thead>\n",
              "  <tbody>\n",
              "    <tr>\n",
              "      <th>0</th>\n",
              "      <td>1</td>\n",
              "      <td>Wii Sports</td>\n",
              "      <td>Wii</td>\n",
              "      <td>2006.0</td>\n",
              "      <td>Sports</td>\n",
              "      <td>Nintendo</td>\n",
              "      <td>\"41,49\"</td>\n",
              "      <td>41,49</td>\n",
              "      <td>29,02</td>\n",
              "      <td>3,77</td>\n",
              "      <td>8,46</td>\n",
              "      <td>82,74</td>\n",
              "      <td>NaN</td>\n",
              "      <td>NaN</td>\n",
              "    </tr>\n",
              "    <tr>\n",
              "      <th>1</th>\n",
              "      <td>2</td>\n",
              "      <td>Super Mario Bros.</td>\n",
              "      <td>NES</td>\n",
              "      <td>1985.0</td>\n",
              "      <td>Platform</td>\n",
              "      <td>Nintendo</td>\n",
              "      <td>\"29,08\"</td>\n",
              "      <td>29,08</td>\n",
              "      <td>3,58</td>\n",
              "      <td>6,81</td>\n",
              "      <td>0,77</td>\n",
              "      <td>40,24</td>\n",
              "      <td>NaN</td>\n",
              "      <td>NaN</td>\n",
              "    </tr>\n",
              "    <tr>\n",
              "      <th>3</th>\n",
              "      <td>4</td>\n",
              "      <td>Wii Sports Resort</td>\n",
              "      <td>Wii</td>\n",
              "      <td>2009.0</td>\n",
              "      <td>Sports</td>\n",
              "      <td>Nintendo</td>\n",
              "      <td>\"15,75\"</td>\n",
              "      <td>15,75</td>\n",
              "      <td>11,01</td>\n",
              "      <td>3,28</td>\n",
              "      <td>2,96</td>\n",
              "      <td>33</td>\n",
              "      <td>NaN</td>\n",
              "      <td>NaN</td>\n",
              "    </tr>\n",
              "    <tr>\n",
              "      <th>4</th>\n",
              "      <td>5</td>\n",
              "      <td>Pokemon Red/Pokemon Blue</td>\n",
              "      <td>GB</td>\n",
              "      <td>1996.0</td>\n",
              "      <td>Role-Playing</td>\n",
              "      <td>Nintendo</td>\n",
              "      <td>\"11,27\"</td>\n",
              "      <td>11,27</td>\n",
              "      <td>8,89</td>\n",
              "      <td>10,22</td>\n",
              "      <td>1</td>\n",
              "      <td>31,37</td>\n",
              "      <td>NaN</td>\n",
              "      <td>NaN</td>\n",
              "    </tr>\n",
              "  </tbody>\n",
              "</table>\n",
              "</div>"
            ],
            "text/plain": [
              "   Rank                      Name  ... Unnamed: 12  Unnamed: 13\n",
              "0     1                Wii Sports  ...         NaN          NaN\n",
              "1     2         Super Mario Bros.  ...         NaN          NaN\n",
              "3     4         Wii Sports Resort  ...         NaN          NaN\n",
              "4     5  Pokemon Red/Pokemon Blue  ...         NaN          NaN\n",
              "\n",
              "[4 rows x 14 columns]"
            ]
          },
          "metadata": {},
          "execution_count": 6
        }
      ]
    },
    {
      "cell_type": "markdown",
      "metadata": {
        "id": "4_fBtgDFzxD8"
      },
      "source": [
        "Ahora, eliminando una columna:"
      ]
    },
    {
      "cell_type": "code",
      "metadata": {
        "id": "dFO4ZvViqNAY"
      },
      "source": [
        "df2.drop(labels=[\"Unnamed: 12\",\"Unnamed: 13\"], axis = 1, inplace=True) # en el parámetro labels les das el nombre de la columna.\n",
        "#Si son más de una las pones en una lista.\n",
        "#Aquí indicamos axis = 1 porque queremos que borre Columnas."
      ],
      "execution_count": null,
      "outputs": []
    },
    {
      "cell_type": "code",
      "metadata": {
        "colab": {
          "base_uri": "https://localhost:8080/",
          "height": 110
        },
        "id": "v12VzOtlrCe0",
        "outputId": "66cda26f-1537-4fa5-cd5e-260d52016673"
      },
      "source": [
        "df2.head(2) #Tada!"
      ],
      "execution_count": null,
      "outputs": [
        {
          "output_type": "execute_result",
          "data": {
            "text/html": [
              "<div>\n",
              "<style scoped>\n",
              "    .dataframe tbody tr th:only-of-type {\n",
              "        vertical-align: middle;\n",
              "    }\n",
              "\n",
              "    .dataframe tbody tr th {\n",
              "        vertical-align: top;\n",
              "    }\n",
              "\n",
              "    .dataframe thead th {\n",
              "        text-align: right;\n",
              "    }\n",
              "</style>\n",
              "<table border=\"1\" class=\"dataframe\">\n",
              "  <thead>\n",
              "    <tr style=\"text-align: right;\">\n",
              "      <th></th>\n",
              "      <th>Rank</th>\n",
              "      <th>Name</th>\n",
              "      <th>Platform</th>\n",
              "      <th>Year</th>\n",
              "      <th>Genre</th>\n",
              "      <th>Publisher</th>\n",
              "      <th>NA_Sales</th>\n",
              "      <th>NA_Sales.1</th>\n",
              "      <th>EU_Sales</th>\n",
              "      <th>JP_Sales</th>\n",
              "      <th>Other_Sales</th>\n",
              "      <th>Global_Sales</th>\n",
              "    </tr>\n",
              "  </thead>\n",
              "  <tbody>\n",
              "    <tr>\n",
              "      <th>0</th>\n",
              "      <td>1</td>\n",
              "      <td>Wii Sports</td>\n",
              "      <td>Wii</td>\n",
              "      <td>2006.0</td>\n",
              "      <td>Sports</td>\n",
              "      <td>Nintendo</td>\n",
              "      <td>\"41,49\"</td>\n",
              "      <td>41,49</td>\n",
              "      <td>29,02</td>\n",
              "      <td>3,77</td>\n",
              "      <td>8,46</td>\n",
              "      <td>82,74</td>\n",
              "    </tr>\n",
              "    <tr>\n",
              "      <th>1</th>\n",
              "      <td>2</td>\n",
              "      <td>Super Mario Bros.</td>\n",
              "      <td>NES</td>\n",
              "      <td>1985.0</td>\n",
              "      <td>Platform</td>\n",
              "      <td>Nintendo</td>\n",
              "      <td>\"29,08\"</td>\n",
              "      <td>29,08</td>\n",
              "      <td>3,58</td>\n",
              "      <td>6,81</td>\n",
              "      <td>0,77</td>\n",
              "      <td>40,24</td>\n",
              "    </tr>\n",
              "  </tbody>\n",
              "</table>\n",
              "</div>"
            ],
            "text/plain": [
              "   Rank               Name Platform  ...  JP_Sales Other_Sales Global_Sales\n",
              "0     1         Wii Sports      Wii  ...      3,77        8,46        82,74\n",
              "1     2  Super Mario Bros.      NES  ...      6,81        0,77        40,24\n",
              "\n",
              "[2 rows x 12 columns]"
            ]
          },
          "metadata": {},
          "execution_count": 8
        }
      ]
    },
    {
      "cell_type": "markdown",
      "metadata": {
        "id": "Wzjy2AXB15d6"
      },
      "source": [
        "Ahora lo importante, si queremos eliminar columnas que cumplan cierta condición:\n",
        "Referencias: https://code.i-harness.com/es/q/1154bb3\n",
        "\n",
        "(Original en inglés) https://stackoverflow.com/questions/18172851/deleting-dataframe-row-in-pandas-based-on-column-value"
      ]
    },
    {
      "cell_type": "code",
      "metadata": {
        "colab": {
          "base_uri": "https://localhost:8080/"
        },
        "id": "-AMfZese15QR",
        "outputId": "1622cefc-c6ec-4b03-bbee-8f232bdd5fae"
      },
      "source": [
        "# Vamos a eliminar todas filas que tengan la plataforma \"Wii\"\n",
        "# Primero vamos a ver cuantos \"Wii\" hay\n",
        "df2[\"Platform\"].value_counts() #Hay 767. El método .value_counts() cuenta cuantas veces se repiten los valores que contiene la columna."
      ],
      "execution_count": null,
      "outputs": [
        {
          "output_type": "execute_result",
          "data": {
            "text/plain": [
              "PS2     1329\n",
              "PS3      882\n",
              "X360     845\n",
              "DS       823\n",
              "Wii      766\n",
              "PS       749\n",
              "GBA      422\n",
              "PSP      410\n",
              "XB       382\n",
              "GC       264\n",
              "PC       254\n",
              "N64      231\n",
              "3DS      217\n",
              "PS4      195\n",
              "SNES     175\n",
              "XOne     127\n",
              "2600     126\n",
              "PSV      106\n",
              "NES       95\n",
              "GB        88\n",
              "WiiU      81\n",
              "SAT       68\n",
              "DC        22\n",
              "GEN       13\n",
              "WS         5\n",
              "NG         4\n",
              "SCD        1\n",
              "Name: Platform, dtype: int64"
            ]
          },
          "metadata": {},
          "execution_count": 9
        }
      ]
    },
    {
      "cell_type": "code",
      "metadata": {
        "colab": {
          "base_uri": "https://localhost:8080/",
          "height": 202
        },
        "id": "X04GmSuFrOvX",
        "outputId": "84d0f4a3-473a-4440-a3fd-c8f8f97ef0f7"
      },
      "source": [
        "#Ahora para borrar con una condición le indicamos lo siguiente:\n",
        "df2 = df2[df2[\"Platform\"]!=\"Wii\"]  #Es decir, guardar todo EXCEPTO (!=) lo que en la columna Platform sea \"Wii\". PD: Funciona con números también ;)\n",
        "df2.head()"
      ],
      "execution_count": null,
      "outputs": [
        {
          "output_type": "execute_result",
          "data": {
            "text/html": [
              "<div>\n",
              "<style scoped>\n",
              "    .dataframe tbody tr th:only-of-type {\n",
              "        vertical-align: middle;\n",
              "    }\n",
              "\n",
              "    .dataframe tbody tr th {\n",
              "        vertical-align: top;\n",
              "    }\n",
              "\n",
              "    .dataframe thead th {\n",
              "        text-align: right;\n",
              "    }\n",
              "</style>\n",
              "<table border=\"1\" class=\"dataframe\">\n",
              "  <thead>\n",
              "    <tr style=\"text-align: right;\">\n",
              "      <th></th>\n",
              "      <th>Rank</th>\n",
              "      <th>Name</th>\n",
              "      <th>Platform</th>\n",
              "      <th>Year</th>\n",
              "      <th>Genre</th>\n",
              "      <th>Publisher</th>\n",
              "      <th>NA_Sales</th>\n",
              "      <th>NA_Sales.1</th>\n",
              "      <th>EU_Sales</th>\n",
              "      <th>JP_Sales</th>\n",
              "      <th>Other_Sales</th>\n",
              "      <th>Global_Sales</th>\n",
              "    </tr>\n",
              "  </thead>\n",
              "  <tbody>\n",
              "    <tr>\n",
              "      <th>1</th>\n",
              "      <td>2</td>\n",
              "      <td>Super Mario Bros.</td>\n",
              "      <td>NES</td>\n",
              "      <td>1985.0</td>\n",
              "      <td>Platform</td>\n",
              "      <td>Nintendo</td>\n",
              "      <td>\"29,08\"</td>\n",
              "      <td>29,08</td>\n",
              "      <td>3,58</td>\n",
              "      <td>6,81</td>\n",
              "      <td>0,77</td>\n",
              "      <td>40,24</td>\n",
              "    </tr>\n",
              "    <tr>\n",
              "      <th>4</th>\n",
              "      <td>5</td>\n",
              "      <td>Pokemon Red/Pokemon Blue</td>\n",
              "      <td>GB</td>\n",
              "      <td>1996.0</td>\n",
              "      <td>Role-Playing</td>\n",
              "      <td>Nintendo</td>\n",
              "      <td>\"11,27\"</td>\n",
              "      <td>11,27</td>\n",
              "      <td>8,89</td>\n",
              "      <td>10,22</td>\n",
              "      <td>1</td>\n",
              "      <td>31,37</td>\n",
              "    </tr>\n",
              "    <tr>\n",
              "      <th>5</th>\n",
              "      <td>6</td>\n",
              "      <td>Tetris</td>\n",
              "      <td>GB</td>\n",
              "      <td>1989.0</td>\n",
              "      <td>Puzzle</td>\n",
              "      <td>Nintendo</td>\n",
              "      <td>\"23,2\"</td>\n",
              "      <td>23,2</td>\n",
              "      <td>2,26</td>\n",
              "      <td>4,22</td>\n",
              "      <td>0,58</td>\n",
              "      <td>30,26</td>\n",
              "    </tr>\n",
              "    <tr>\n",
              "      <th>6</th>\n",
              "      <td>7</td>\n",
              "      <td>New Super Mario Bros.</td>\n",
              "      <td>DS</td>\n",
              "      <td>2006.0</td>\n",
              "      <td>Platform</td>\n",
              "      <td>Nintendo</td>\n",
              "      <td>\"11,38\"</td>\n",
              "      <td>11,38</td>\n",
              "      <td>9,23</td>\n",
              "      <td>6,5</td>\n",
              "      <td>2,9</td>\n",
              "      <td>30,01</td>\n",
              "    </tr>\n",
              "    <tr>\n",
              "      <th>9</th>\n",
              "      <td>10</td>\n",
              "      <td>Duck Hunt</td>\n",
              "      <td>NES</td>\n",
              "      <td>1984.0</td>\n",
              "      <td>Shooter</td>\n",
              "      <td>Nintendo</td>\n",
              "      <td>\"26,93\"</td>\n",
              "      <td>26,93</td>\n",
              "      <td>0,63</td>\n",
              "      <td>0,28</td>\n",
              "      <td>0,47</td>\n",
              "      <td>28,31</td>\n",
              "    </tr>\n",
              "  </tbody>\n",
              "</table>\n",
              "</div>"
            ],
            "text/plain": [
              "   Rank                      Name Platform  ...  JP_Sales Other_Sales Global_Sales\n",
              "1     2         Super Mario Bros.      NES  ...      6,81        0,77        40,24\n",
              "4     5  Pokemon Red/Pokemon Blue       GB  ...     10,22           1        31,37\n",
              "5     6                    Tetris       GB  ...      4,22        0,58        30,26\n",
              "6     7     New Super Mario Bros.       DS  ...       6,5         2,9        30,01\n",
              "9    10                 Duck Hunt      NES  ...      0,28        0,47        28,31\n",
              "\n",
              "[5 rows x 12 columns]"
            ]
          },
          "metadata": {},
          "execution_count": 12
        }
      ]
    },
    {
      "cell_type": "code",
      "metadata": {
        "colab": {
          "base_uri": "https://localhost:8080/"
        },
        "id": "5oM3S0UUrSBf",
        "outputId": "2db89386-5210-40af-a78a-259e3b99dbc1"
      },
      "source": [
        "df2[\"Platform\"].value_counts() # NO HAY Wii :D Tada!"
      ],
      "execution_count": null,
      "outputs": [
        {
          "output_type": "execute_result",
          "data": {
            "text/plain": [
              "PS2     1329\n",
              "PS3      882\n",
              "X360     845\n",
              "DS       823\n",
              "PS       749\n",
              "GBA      422\n",
              "PSP      410\n",
              "XB       382\n",
              "GC       264\n",
              "PC       254\n",
              "N64      231\n",
              "3DS      217\n",
              "PS4      195\n",
              "SNES     175\n",
              "XOne     127\n",
              "2600     126\n",
              "PSV      106\n",
              "NES       95\n",
              "GB        88\n",
              "WiiU      81\n",
              "SAT       68\n",
              "DC        22\n",
              "GEN       13\n",
              "WS         5\n",
              "NG         4\n",
              "SCD        1\n",
              "Name: Platform, dtype: int64"
            ]
          },
          "metadata": {},
          "execution_count": 13
        }
      ]
    },
    {
      "cell_type": "markdown",
      "metadata": {
        "id": "AVvHj4mWJPjg"
      },
      "source": [
        "Si tienen valores NaN, df.dropna() les podría servir.\n",
        "Otra cosa, recuerden que pueden jugar con los valores, es decir, si tienen valores que no correspondan o que les estorben, pueden **reemplazarlos**, eliminarlos, reemplazarlos y eliminarlos, cortar strings, etc :)\n",
        "Ánimo y cualquier cosa pregunten! :D "
      ]
    },
    {
      "cell_type": "markdown",
      "metadata": {
        "id": "H0KmngjYIzOP"
      },
      "source": [
        "# **Como reemplazar valores en las columnas**"
      ]
    },
    {
      "cell_type": "code",
      "metadata": {
        "colab": {
          "base_uri": "https://localhost:8080/",
          "height": 232
        },
        "id": "pxUxZ4_nwVD1",
        "outputId": "309d3364-9b26-467f-9a36-7ae9894f1067"
      },
      "source": [
        "import pandas as pd\n",
        "\n",
        "data={\"Columna1\":[1,2,3,4,5], \"Columna2\":['a','b','c','d','e'],\"Columna3\":['3,2','1.4','2,5pk','\"d\"','0,1']}\n",
        "df3 = pd.DataFrame(data)\n",
        "df3.set_index(\"Columna1\", inplace=True) # df3 = df3.set_index(\"Columna1\") son equivalentes\n",
        "\n",
        "df3.head()"
      ],
      "execution_count": null,
      "outputs": [
        {
          "output_type": "execute_result",
          "data": {
            "text/html": [
              "<div>\n",
              "<style scoped>\n",
              "    .dataframe tbody tr th:only-of-type {\n",
              "        vertical-align: middle;\n",
              "    }\n",
              "\n",
              "    .dataframe tbody tr th {\n",
              "        vertical-align: top;\n",
              "    }\n",
              "\n",
              "    .dataframe thead th {\n",
              "        text-align: right;\n",
              "    }\n",
              "</style>\n",
              "<table border=\"1\" class=\"dataframe\">\n",
              "  <thead>\n",
              "    <tr style=\"text-align: right;\">\n",
              "      <th></th>\n",
              "      <th>Columna2</th>\n",
              "      <th>Columna3</th>\n",
              "    </tr>\n",
              "    <tr>\n",
              "      <th>Columna1</th>\n",
              "      <th></th>\n",
              "      <th></th>\n",
              "    </tr>\n",
              "  </thead>\n",
              "  <tbody>\n",
              "    <tr>\n",
              "      <th>1</th>\n",
              "      <td>a</td>\n",
              "      <td>3,2</td>\n",
              "    </tr>\n",
              "    <tr>\n",
              "      <th>2</th>\n",
              "      <td>b</td>\n",
              "      <td>1.4</td>\n",
              "    </tr>\n",
              "    <tr>\n",
              "      <th>3</th>\n",
              "      <td>c</td>\n",
              "      <td>2,5pk</td>\n",
              "    </tr>\n",
              "    <tr>\n",
              "      <th>4</th>\n",
              "      <td>d</td>\n",
              "      <td>\"d\"</td>\n",
              "    </tr>\n",
              "    <tr>\n",
              "      <th>5</th>\n",
              "      <td>e</td>\n",
              "      <td>0,1</td>\n",
              "    </tr>\n",
              "  </tbody>\n",
              "</table>\n",
              "</div>"
            ],
            "text/plain": [
              "         Columna2 Columna3\n",
              "Columna1                  \n",
              "1               a      3,2\n",
              "2               b      1.4\n",
              "3               c    2,5pk\n",
              "4               d      \"d\"\n",
              "5               e      0,1"
            ]
          },
          "metadata": {},
          "execution_count": 12
        }
      ]
    },
    {
      "cell_type": "markdown",
      "metadata": {
        "id": "DS6vlfseKWoo"
      },
      "source": [
        "Supongamos que la columna3 debiese tener solo valores de tipo float pero vemos que \"Columna3\" es un revoltijo de datos.\n",
        "\n",
        "Vamos a \"curar\" los datos para que podamos procesarlos.\n",
        "\n"
      ]
    },
    {
      "cell_type": "code",
      "metadata": {
        "id": "Co5AcOtEJCUG",
        "colab": {
          "base_uri": "https://localhost:8080/"
        },
        "outputId": "da6d2c2e-c14a-445e-eca9-c02818007a8c"
      },
      "source": [
        "#Primero unas observaciones\n",
        "df3.info() #revisemos los datos\n",
        "#independiente por donde partamos hay que trabajar practicamente en todos\n",
        "#porque si bien el 1.4 de la 2da fila tiene la notación correcta de un float\n",
        "#no tiene el tipo float asignado."
      ],
      "execution_count": null,
      "outputs": [
        {
          "output_type": "stream",
          "name": "stdout",
          "text": [
            "<class 'pandas.core.frame.DataFrame'>\n",
            "Int64Index: 5 entries, 1 to 5\n",
            "Data columns (total 2 columns):\n",
            " #   Column    Non-Null Count  Dtype \n",
            "---  ------    --------------  ----- \n",
            " 0   Columna2  5 non-null      object\n",
            " 1   Columna3  5 non-null      object\n",
            "dtypes: object(2)\n",
            "memory usage: 120.0+ bytes\n"
          ]
        }
      ]
    },
    {
      "cell_type": "code",
      "metadata": {
        "id": "9110pBP-KUd6"
      },
      "source": [
        "#Empecemos por corregir la notación. Un float debe tener un punto como separador de decimales.\n",
        "#Los valores que no tienen el punto por separador son el 3,2 y el 0,1\n",
        "df3[\"Columna3\"] = df3[\"Columna3\"].str.replace(\",\",\".\") #Pasa por todos los str de la columna\n",
        "#y donde encuentre el valor (\",\") lo reemplazará por el valor (\".\")\n",
        "\n",
        "#ref: https://pandas.pydata.org/pandas-docs/stable/reference/api/pandas.Series.str.replace.html"
      ],
      "execution_count": null,
      "outputs": []
    },
    {
      "cell_type": "code",
      "metadata": {
        "id": "9l_nyh4FTOLP",
        "colab": {
          "base_uri": "https://localhost:8080/",
          "height": 232
        },
        "outputId": "cf69a843-cfb0-4d4f-e83b-b30c3a0f4d86"
      },
      "source": [
        "df3.head()"
      ],
      "execution_count": null,
      "outputs": [
        {
          "output_type": "execute_result",
          "data": {
            "text/html": [
              "<div>\n",
              "<style scoped>\n",
              "    .dataframe tbody tr th:only-of-type {\n",
              "        vertical-align: middle;\n",
              "    }\n",
              "\n",
              "    .dataframe tbody tr th {\n",
              "        vertical-align: top;\n",
              "    }\n",
              "\n",
              "    .dataframe thead th {\n",
              "        text-align: right;\n",
              "    }\n",
              "</style>\n",
              "<table border=\"1\" class=\"dataframe\">\n",
              "  <thead>\n",
              "    <tr style=\"text-align: right;\">\n",
              "      <th></th>\n",
              "      <th>Columna2</th>\n",
              "      <th>Columna3</th>\n",
              "    </tr>\n",
              "    <tr>\n",
              "      <th>Columna1</th>\n",
              "      <th></th>\n",
              "      <th></th>\n",
              "    </tr>\n",
              "  </thead>\n",
              "  <tbody>\n",
              "    <tr>\n",
              "      <th>1</th>\n",
              "      <td>a</td>\n",
              "      <td>3.2</td>\n",
              "    </tr>\n",
              "    <tr>\n",
              "      <th>2</th>\n",
              "      <td>b</td>\n",
              "      <td>1.4</td>\n",
              "    </tr>\n",
              "    <tr>\n",
              "      <th>3</th>\n",
              "      <td>c</td>\n",
              "      <td>2.5pk</td>\n",
              "    </tr>\n",
              "    <tr>\n",
              "      <th>4</th>\n",
              "      <td>d</td>\n",
              "      <td>\"d\"</td>\n",
              "    </tr>\n",
              "    <tr>\n",
              "      <th>5</th>\n",
              "      <td>e</td>\n",
              "      <td>0.1</td>\n",
              "    </tr>\n",
              "  </tbody>\n",
              "</table>\n",
              "</div>"
            ],
            "text/plain": [
              "         Columna2 Columna3\n",
              "Columna1                  \n",
              "1               a      3.2\n",
              "2               b      1.4\n",
              "3               c    2.5pk\n",
              "4               d      \"d\"\n",
              "5               e      0.1"
            ]
          },
          "metadata": {},
          "execution_count": 15
        }
      ]
    },
    {
      "cell_type": "code",
      "metadata": {
        "id": "2q2MuCggLUqF",
        "colab": {
          "base_uri": "https://localhost:8080/",
          "height": 232
        },
        "outputId": "96dea622-2e73-431d-cfad-c7ef7cd44248"
      },
      "source": [
        "#Ahora corregiremos el valor 2.5pk\n",
        "df3[\"Columna3\"] = df3[\"Columna3\"].str.strip('pk') #Con strip removemos los caracteres indicados.\n",
        "df3.head()\n",
        "\n",
        "#ref: https://pandas.pydata.org/pandas-docs/stable/reference/api/pandas.Series.str.strip.html"
      ],
      "execution_count": null,
      "outputs": [
        {
          "output_type": "execute_result",
          "data": {
            "text/html": [
              "<div>\n",
              "<style scoped>\n",
              "    .dataframe tbody tr th:only-of-type {\n",
              "        vertical-align: middle;\n",
              "    }\n",
              "\n",
              "    .dataframe tbody tr th {\n",
              "        vertical-align: top;\n",
              "    }\n",
              "\n",
              "    .dataframe thead th {\n",
              "        text-align: right;\n",
              "    }\n",
              "</style>\n",
              "<table border=\"1\" class=\"dataframe\">\n",
              "  <thead>\n",
              "    <tr style=\"text-align: right;\">\n",
              "      <th></th>\n",
              "      <th>Columna2</th>\n",
              "      <th>Columna3</th>\n",
              "    </tr>\n",
              "    <tr>\n",
              "      <th>Columna1</th>\n",
              "      <th></th>\n",
              "      <th></th>\n",
              "    </tr>\n",
              "  </thead>\n",
              "  <tbody>\n",
              "    <tr>\n",
              "      <th>1</th>\n",
              "      <td>a</td>\n",
              "      <td>3.2</td>\n",
              "    </tr>\n",
              "    <tr>\n",
              "      <th>2</th>\n",
              "      <td>b</td>\n",
              "      <td>1.4</td>\n",
              "    </tr>\n",
              "    <tr>\n",
              "      <th>3</th>\n",
              "      <td>c</td>\n",
              "      <td>2.5</td>\n",
              "    </tr>\n",
              "    <tr>\n",
              "      <th>4</th>\n",
              "      <td>d</td>\n",
              "      <td>\"d\"</td>\n",
              "    </tr>\n",
              "    <tr>\n",
              "      <th>5</th>\n",
              "      <td>e</td>\n",
              "      <td>0.1</td>\n",
              "    </tr>\n",
              "  </tbody>\n",
              "</table>\n",
              "</div>"
            ],
            "text/plain": [
              "         Columna2 Columna3\n",
              "Columna1                  \n",
              "1               a      3.2\n",
              "2               b      1.4\n",
              "3               c      2.5\n",
              "4               d      \"d\"\n",
              "5               e      0.1"
            ]
          },
          "metadata": {},
          "execution_count": 16
        }
      ]
    },
    {
      "cell_type": "code",
      "metadata": {
        "id": "FDNyDATYfdCX",
        "colab": {
          "base_uri": "https://localhost:8080/"
        },
        "outputId": "7cd34258-65ea-438e-8d36-496569dc8487"
      },
      "source": [
        "x='3.2'\n",
        "a=float(x)\n",
        "type(a) "
      ],
      "execution_count": null,
      "outputs": [
        {
          "output_type": "execute_result",
          "data": {
            "text/plain": [
              "float"
            ]
          },
          "metadata": {},
          "execution_count": 17
        }
      ]
    },
    {
      "cell_type": "code",
      "metadata": {
        "id": "UAKFEPUCYb34"
      },
      "source": [
        "# Por ultimo  tenemos un valor string (\"d\") que no es valido para nuestra columna que solo debería tener floats.\n",
        "# Como lo único que hace ese valor erroneo es estorbar, eliminaremos la fila entera para conservar las dimensiones del dataframe.\n",
        "df3 = df3[df3[\"Columna3\"].str.contains(\"d\") == False] #y así guardo todos los valores donde NO SALGA el string \"d\"\n",
        "#ref: https://www.statology.org/pandas-drop-rows-that-contain-string/"
      ],
      "execution_count": null,
      "outputs": []
    },
    {
      "cell_type": "code",
      "metadata": {
        "id": "hjgGwNVdhgHZ",
        "colab": {
          "base_uri": "https://localhost:8080/",
          "height": 202
        },
        "outputId": "1edb413a-e550-4565-8c64-1d8cf8df6aff"
      },
      "source": [
        "df3.head()"
      ],
      "execution_count": null,
      "outputs": [
        {
          "output_type": "execute_result",
          "data": {
            "text/html": [
              "<div>\n",
              "<style scoped>\n",
              "    .dataframe tbody tr th:only-of-type {\n",
              "        vertical-align: middle;\n",
              "    }\n",
              "\n",
              "    .dataframe tbody tr th {\n",
              "        vertical-align: top;\n",
              "    }\n",
              "\n",
              "    .dataframe thead th {\n",
              "        text-align: right;\n",
              "    }\n",
              "</style>\n",
              "<table border=\"1\" class=\"dataframe\">\n",
              "  <thead>\n",
              "    <tr style=\"text-align: right;\">\n",
              "      <th></th>\n",
              "      <th>Columna2</th>\n",
              "      <th>Columna3</th>\n",
              "    </tr>\n",
              "    <tr>\n",
              "      <th>Columna1</th>\n",
              "      <th></th>\n",
              "      <th></th>\n",
              "    </tr>\n",
              "  </thead>\n",
              "  <tbody>\n",
              "    <tr>\n",
              "      <th>1</th>\n",
              "      <td>a</td>\n",
              "      <td>3.2</td>\n",
              "    </tr>\n",
              "    <tr>\n",
              "      <th>2</th>\n",
              "      <td>b</td>\n",
              "      <td>1.4</td>\n",
              "    </tr>\n",
              "    <tr>\n",
              "      <th>3</th>\n",
              "      <td>c</td>\n",
              "      <td>2.5</td>\n",
              "    </tr>\n",
              "    <tr>\n",
              "      <th>5</th>\n",
              "      <td>e</td>\n",
              "      <td>0.1</td>\n",
              "    </tr>\n",
              "  </tbody>\n",
              "</table>\n",
              "</div>"
            ],
            "text/plain": [
              "         Columna2 Columna3\n",
              "Columna1                  \n",
              "1               a      3.2\n",
              "2               b      1.4\n",
              "3               c      2.5\n",
              "5               e      0.1"
            ]
          },
          "metadata": {},
          "execution_count": 19
        }
      ]
    },
    {
      "cell_type": "markdown",
      "metadata": {
        "id": "E7C5Fu3ioJCb"
      },
      "source": [
        "Ahora solo queda transfomar el tipo de dato a los correspondientes. Observemos que:\n",
        "\n",
        "Para la columna 2 dado que son letras y las letras son limitadas y fijas, concluimos que es de tipo categórica (variable categórica nominal).\n",
        "\n",
        "Para la columna 3 dado que son números es una variable numérica y como es float puede tomar infinitos valores entre vecinos, por lo que sería una variable numérica continua.\n",
        "\n",
        "Si fuesen numeros enteros sería una variable numérica discreta (Ej. como los dedos de una mano, los autos de una familia, la cantidad de embarazos).\n",
        "\n",
        "ref: https://www.lifeder.com/variable-discreta/\n",
        "\n",
        "http://www.corladpuno.org.pe/manuel.anchapuri/guia-para-el-manejo-de-variables-en-la-investigacion/\n"
      ]
    },
    {
      "cell_type": "code",
      "metadata": {
        "id": "shnKShxQcKR2"
      },
      "source": [
        "df3[\"Columna2\"] = df3[\"Columna2\"].astype('category')\n",
        "df3[\"Columna3\"] = df3[\"Columna3\"].astype('float')"
      ],
      "execution_count": null,
      "outputs": []
    },
    {
      "cell_type": "code",
      "metadata": {
        "id": "LsNAKF7SgbIj",
        "colab": {
          "base_uri": "https://localhost:8080/"
        },
        "outputId": "1721de08-bbde-4d4c-c593-8c304f0bd96b"
      },
      "source": [
        "df3.info()"
      ],
      "execution_count": null,
      "outputs": [
        {
          "output_type": "stream",
          "name": "stdout",
          "text": [
            "<class 'pandas.core.frame.DataFrame'>\n",
            "Int64Index: 4 entries, 1 to 5\n",
            "Data columns (total 2 columns):\n",
            " #   Column    Non-Null Count  Dtype   \n",
            "---  ------    --------------  -----   \n",
            " 0   Columna2  4 non-null      category\n",
            " 1   Columna3  4 non-null      float64 \n",
            "dtypes: category(1), float64(1)\n",
            "memory usage: 260.0 bytes\n"
          ]
        }
      ]
    },
    {
      "cell_type": "markdown",
      "metadata": {
        "id": "raW8odskp5_l"
      },
      "source": [
        "# Gráficando con el ayudante (próximamente)"
      ]
    },
    {
      "cell_type": "code",
      "metadata": {
        "id": "gbSOE2RrqH9O"
      },
      "source": [
        ""
      ],
      "execution_count": null,
      "outputs": []
    }
  ]
}